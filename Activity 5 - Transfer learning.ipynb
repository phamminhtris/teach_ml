{
 "cells": [
  {
   "cell_type": "code",
   "execution_count": 22,
   "metadata": {},
   "outputs": [],
   "source": [
    "import numpy as np\n",
    "import math\n",
    "import matplotlib.pyplot as plt\n",
    "import keras\n",
    "from keras.preprocessing.image import ImageDataGenerator\n",
    "from keras.models import Sequential,load_model, Model\n",
    "from keras.layers import Dense, Dropout, Activation, Flatten, Conv2D, MaxPooling2D, BatchNormalization\n",
    "from keras.callbacks import ModelCheckpoint, LearningRateScheduler, TensorBoard, EarlyStopping\n",
    "from PIL import Image\n",
    "%matplotlib inline"
   ]
  },
  {
   "cell_type": "code",
   "execution_count": 23,
   "metadata": {},
   "outputs": [],
   "source": [
    "img_width, img_height = 224, 224\n",
    "data_dir = \"./flower_photos\"\n",
    "batch_size = 8\n",
    "epochs = 10\n",
    "nb_train_samples = 3000\n",
    "nb_validation_samples = 300"
   ]
  },
  {
   "cell_type": "code",
   "execution_count": 24,
   "metadata": {},
   "outputs": [],
   "source": [
    "# import a model trained with Imagenet\n",
    "model = keras.applications.mobilenet.MobileNet(input_shape=(img_width, img_height, 3), alpha=0.5,\n",
    "                                               include_top=False, weights='imagenet')"
   ]
  },
  {
   "cell_type": "code",
   "execution_count": 25,
   "metadata": {},
   "outputs": [],
   "source": [
    "# Freeze the layers which you don't want to train.\n",
    "for layer in model.layers:\n",
    "    layer.trainable = False"
   ]
  },
  {
   "cell_type": "code",
   "execution_count": 26,
   "metadata": {},
   "outputs": [
    {
     "name": "stderr",
     "output_type": "stream",
     "text": [
      "/usr/local/lib/python3.7/site-packages/ipykernel_launcher.py:10: UserWarning: Update your `Model` call to the Keras 2 API: `Model(inputs=Tensor(\"in..., outputs=Tensor(\"de...)`\n",
      "  # Remove the CWD from sys.path while we load stuff.\n"
     ]
    }
   ],
   "source": [
    "#Adding custom Layers \n",
    "x = model.output\n",
    "x = Flatten()(x)\n",
    "x = Dense(256, activation=\"relu\")(x)\n",
    "x = Dropout(0.5)(x)\n",
    "x = Dense(256, activation=\"relu\")(x)\n",
    "predictions = Dense(5, activation=\"softmax\")(x)\n",
    "\n",
    "# creating the final model \n",
    "model_final = Model(input = model.input, output = predictions)\n",
    "#model_final.summary()"
   ]
  },
  {
   "cell_type": "code",
   "execution_count": 27,
   "metadata": {},
   "outputs": [],
   "source": [
    "# compile model\n",
    "model_final.compile(loss = \"categorical_crossentropy\", \n",
    "                    optimizer = keras.optimizers.adam(lr=0.0001),\n",
    "                    metrics=[\"accuracy\"])"
   ]
  },
  {
   "cell_type": "code",
   "execution_count": 28,
   "metadata": {},
   "outputs": [
    {
     "name": "stdout",
     "output_type": "stream",
     "text": [
      "Found 3670 images belonging to 5 classes.\n",
      "Found 3670 images belonging to 5 classes.\n"
     ]
    }
   ],
   "source": [
    "datagen = ImageDataGenerator(\n",
    "rescale = 1./255,\n",
    "horizontal_flip = True,\n",
    "fill_mode = \"nearest\",\n",
    "zoom_range = 0.3,\n",
    "width_shift_range = 0.3,\n",
    "height_shift_range=0.3,\n",
    "rotation_range=30)\n",
    "\n",
    "train_generator = datagen.flow_from_directory(data_dir, \n",
    "                                              target_size=(img_width, img_height), \n",
    "                                              shuffle=True, seed=13,\n",
    "                                              class_mode='categorical', \n",
    "                                              batch_size=batch_size)\n",
    "validation_generator = datagen.flow_from_directory(data_dir, \n",
    "                                              target_size=(img_width, img_height), \n",
    "                                              shuffle=True, seed=13,\n",
    "                                              class_mode='categorical', \n",
    "                                              batch_size=batch_size)"
   ]
  },
  {
   "cell_type": "code",
   "execution_count": 29,
   "metadata": {},
   "outputs": [],
   "source": [
    "# Save the model according to the conditions  \n",
    "checkpoint = ModelCheckpoint(\"transfer_mobilenet_split.h5\", monitor='val_acc', verbose=1, save_best_only=True, \n",
    "                             save_weights_only=False, mode='auto', period=1)\n",
    "early = EarlyStopping(monitor='val_acc', min_delta=0, patience=10, verbose=1, mode='auto')"
   ]
  },
  {
   "cell_type": "code",
   "execution_count": 30,
   "metadata": {},
   "outputs": [
    {
     "name": "stdout",
     "output_type": "stream",
     "text": [
      "WARNING:tensorflow:From /usr/local/lib/python3.7/site-packages/tensorflow/python/ops/math_ops.py:3066: to_int32 (from tensorflow.python.ops.math_ops) is deprecated and will be removed in a future version.\n",
      "Instructions for updating:\n",
      "Use tf.cast instead.\n"
     ]
    },
    {
     "name": "stderr",
     "output_type": "stream",
     "text": [
      "/usr/local/lib/python3.7/site-packages/ipykernel_launcher.py:8: UserWarning: The semantics of the Keras 2 argument `steps_per_epoch` is not the same as the Keras 1 argument `samples_per_epoch`. `steps_per_epoch` is the number of batches to draw from the generator at each epoch. Basically steps_per_epoch = samples_per_epoch/batch_size. Similarly `nb_val_samples`->`validation_steps` and `val_samples`->`steps` arguments have changed. Update your method calls accordingly.\n",
      "  \n",
      "/usr/local/lib/python3.7/site-packages/ipykernel_launcher.py:8: UserWarning: Update your `fit_generator` call to the Keras 2 API: `fit_generator(<keras_pre..., epochs=10, validation_data=<keras_pre..., callbacks=[<keras.ca..., steps_per_epoch=375, validation_steps=300)`\n",
      "  \n"
     ]
    },
    {
     "name": "stdout",
     "output_type": "stream",
     "text": [
      "Epoch 1/10\n",
      "375/375 [==============================] - 132s 352ms/step - loss: 1.4721 - acc: 0.4887 - val_loss: 1.0373 - val_acc: 0.6154\n",
      "\n",
      "Epoch 00001: val_acc improved from -inf to 0.61542, saving model to transfer_mobilenet_split.h5\n",
      "Epoch 2/10\n",
      "375/375 [==============================] - 125s 332ms/step - loss: 1.0179 - acc: 0.6223 - val_loss: 0.7149 - val_acc: 0.7227\n",
      "\n",
      "Epoch 00002: val_acc improved from 0.61542 to 0.72269, saving model to transfer_mobilenet_split.h5\n",
      "Epoch 3/10\n",
      "375/375 [==============================] - 124s 330ms/step - loss: 0.9398 - acc: 0.6517 - val_loss: 0.7801 - val_acc: 0.7071\n",
      "\n",
      "Epoch 00003: val_acc did not improve from 0.72269\n",
      "Epoch 4/10\n",
      "375/375 [==============================] - 123s 329ms/step - loss: 0.8832 - acc: 0.6709 - val_loss: 0.7276 - val_acc: 0.7248\n",
      "\n",
      "Epoch 00004: val_acc improved from 0.72269 to 0.72477, saving model to transfer_mobilenet_split.h5\n",
      "Epoch 5/10\n",
      "375/375 [==============================] - 125s 335ms/step - loss: 0.8380 - acc: 0.6892 - val_loss: 0.8156 - val_acc: 0.7093\n",
      "\n",
      "Epoch 00005: val_acc did not improve from 0.72477\n",
      "Epoch 6/10\n",
      "375/375 [==============================] - 126s 336ms/step - loss: 0.8063 - acc: 0.7057 - val_loss: 0.7121 - val_acc: 0.7500\n",
      "\n",
      "Epoch 00006: val_acc improved from 0.72477 to 0.75000, saving model to transfer_mobilenet_split.h5\n",
      "Epoch 7/10\n",
      "375/375 [==============================] - 124s 331ms/step - loss: 0.7988 - acc: 0.7062 - val_loss: 0.7478 - val_acc: 0.7210\n",
      "\n",
      "Epoch 00007: val_acc did not improve from 0.75000\n",
      "Epoch 8/10\n",
      "375/375 [==============================] - 125s 334ms/step - loss: 0.7635 - acc: 0.7236 - val_loss: 0.7192 - val_acc: 0.7473\n",
      "\n",
      "Epoch 00008: val_acc did not improve from 0.75000\n",
      "Epoch 9/10\n",
      "375/375 [==============================] - 124s 332ms/step - loss: 0.7862 - acc: 0.7193 - val_loss: 0.6949 - val_acc: 0.7579\n",
      "\n",
      "Epoch 00009: val_acc improved from 0.75000 to 0.75792, saving model to transfer_mobilenet_split.h5\n",
      "Epoch 10/10\n",
      "375/375 [==============================] - 124s 332ms/step - loss: 0.7407 - acc: 0.7272 - val_loss: 0.6150 - val_acc: 0.7769\n",
      "\n",
      "Epoch 00010: val_acc improved from 0.75792 to 0.77690, saving model to transfer_mobilenet_split.h5\n"
     ]
    },
    {
     "data": {
      "text/plain": [
       "<keras.callbacks.History at 0x14e71cb00>"
      ]
     },
     "execution_count": 30,
     "metadata": {},
     "output_type": "execute_result"
    }
   ],
   "source": [
    "# Train the model \n",
    "model_final.fit_generator(\n",
    "    train_generator,\n",
    "    epochs = epochs,\n",
    "    samples_per_epoch = nb_train_samples,\n",
    "    validation_data = validation_generator,\n",
    "    nb_val_samples = nb_validation_samples,\n",
    "    callbacks = [checkpoint, early])"
   ]
  },
  {
   "cell_type": "code",
   "execution_count": 31,
   "metadata": {},
   "outputs": [
    {
     "ename": "AttributeError",
     "evalue": "module 'keras.applications.mobilenet' has no attribute 'relu6'",
     "output_type": "error",
     "traceback": [
      "\u001b[0;31m---------------------------------------------------------------------------\u001b[0m",
      "\u001b[0;31mAttributeError\u001b[0m                            Traceback (most recent call last)",
      "\u001b[0;32m<ipython-input-31-e3da75e4d35b>\u001b[0m in \u001b[0;36m<module>\u001b[0;34m\u001b[0m\n\u001b[1;32m      1\u001b[0m \u001b[0;32mfrom\u001b[0m \u001b[0mkeras\u001b[0m\u001b[0;34m.\u001b[0m\u001b[0mutils\u001b[0m\u001b[0;34m.\u001b[0m\u001b[0mgeneric_utils\u001b[0m \u001b[0;32mimport\u001b[0m \u001b[0mCustomObjectScope\u001b[0m\u001b[0;34m\u001b[0m\u001b[0;34m\u001b[0m\u001b[0m\n\u001b[1;32m      2\u001b[0m \u001b[0;34m\u001b[0m\u001b[0m\n\u001b[0;32m----> 3\u001b[0;31m \u001b[0;32mwith\u001b[0m \u001b[0mCustomObjectScope\u001b[0m\u001b[0;34m(\u001b[0m\u001b[0;34m{\u001b[0m\u001b[0;34m'relu6'\u001b[0m\u001b[0;34m:\u001b[0m \u001b[0mkeras\u001b[0m\u001b[0;34m.\u001b[0m\u001b[0mapplications\u001b[0m\u001b[0;34m.\u001b[0m\u001b[0mmobilenet\u001b[0m\u001b[0;34m.\u001b[0m\u001b[0mrelu6\u001b[0m\u001b[0;34m,\u001b[0m\u001b[0;34m'DepthwiseConv2D'\u001b[0m\u001b[0;34m:\u001b[0m \u001b[0mkeras\u001b[0m\u001b[0;34m.\u001b[0m\u001b[0mapplications\u001b[0m\u001b[0;34m.\u001b[0m\u001b[0mmobilenet\u001b[0m\u001b[0;34m.\u001b[0m\u001b[0mDepthwiseConv2D\u001b[0m\u001b[0;34m}\u001b[0m\u001b[0;34m)\u001b[0m\u001b[0;34m:\u001b[0m\u001b[0;34m\u001b[0m\u001b[0;34m\u001b[0m\u001b[0m\n\u001b[0m\u001b[1;32m      4\u001b[0m     \u001b[0mmodel_final\u001b[0m \u001b[0;34m=\u001b[0m \u001b[0mload_model\u001b[0m\u001b[0;34m(\u001b[0m\u001b[0;34m'transfer_mobilenet_split.h5'\u001b[0m\u001b[0;34m)\u001b[0m\u001b[0;34m\u001b[0m\u001b[0;34m\u001b[0m\u001b[0m\n\u001b[1;32m      5\u001b[0m \u001b[0;34m\u001b[0m\u001b[0m\n",
      "\u001b[0;31mAttributeError\u001b[0m: module 'keras.applications.mobilenet' has no attribute 'relu6'"
     ]
    }
   ],
   "source": [
    "from keras.utils.generic_utils import CustomObjectScope\n",
    "\n",
    "with CustomObjectScope({'relu6': keras.applications.mobilenet.relu6,'DepthwiseConv2D': keras.applications.mobilenet.DepthwiseConv2D}):\n",
    "    model_final = load_model('transfer_mobilenet_split.h5')\n",
    "    "
   ]
  },
  {
   "cell_type": "code",
   "execution_count": null,
   "metadata": {},
   "outputs": [],
   "source": [
    "#IM = Image.open(data_dir + '/sunflowers/20407896403_a50fef58ac_n.jpg')\n",
    "#IM = Image.open(data_dir + '/daisy/2641151167_3bf1349606_m.jpg')\n",
    "#IM = Image.open(data_dir + '/tulips/3150964108_24dbec4b23_m.jpg')\n",
    "#IM = Image.open(data_dir + '/roses/3634244527_e72c47842c_n.jpg')\n",
    "IM = Image.open(data_dir + '/dandelion/14060367700_fe87e99b6a_m.jpg')\n",
    "\n",
    "npim = np.array(IM.resize((img_height, img_width), Image.NEAREST))\n",
    "print(npim.shape)\n",
    "plt.imshow(npim)\n",
    "npim = npim.reshape((1,img_height, img_width,3))/255.0"
   ]
  },
  {
   "cell_type": "code",
   "execution_count": null,
   "metadata": {},
   "outputs": [],
   "source": [
    "prob = model_final.predict(npim)\n",
    "print(prob[0,:])\n",
    "labels = ('daisy', 'dandelion', 'roses', 'sunflowers', 'tulips')\n",
    "y_pos = np.arange(len(labels))\n",
    "plt.bar(y_pos, prob[0,:])\n",
    "plt.xticks(y_pos, labels)\n",
    "plt.ylabel('Probability')\n",
    "plt.title('Which flower ?')\n",
    " \n",
    "plt.show()"
   ]
  },
  {
   "cell_type": "code",
   "execution_count": null,
   "metadata": {},
   "outputs": [],
   "source": []
  }
 ],
 "metadata": {
  "kernelspec": {
   "display_name": "Python 3",
   "language": "python",
   "name": "python3"
  },
  "language_info": {
   "codemirror_mode": {
    "name": "ipython",
    "version": 3
   },
   "file_extension": ".py",
   "mimetype": "text/x-python",
   "name": "python",
   "nbconvert_exporter": "python",
   "pygments_lexer": "ipython3",
   "version": "3.7.3"
  }
 },
 "nbformat": 4,
 "nbformat_minor": 2
}
